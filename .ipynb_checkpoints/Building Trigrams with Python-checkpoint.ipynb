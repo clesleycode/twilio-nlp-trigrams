{
 "cells": [
  {
   "cell_type": "markdown",
   "metadata": {},
   "source": [
    "## Building Trigrams With Python"
   ]
  },
  {
   "cell_type": "code",
   "execution_count": 1,
   "metadata": {},
   "outputs": [],
   "source": [
    "import math\n",
    "\n",
    "# Filter Trigrams and Bigrams from the counts file\n",
    "def trigrams(filename):\n",
    "    tri_dict = {}\n",
    "    bi_dict = {}\n",
    "    for i in open(filename):\n",
    "        current = i.split()\n",
    "    if current[1] == '3-GRAM':\n",
    "        tri_dict[current[2] + ' ' + current[3] + ' ' + current[4]] = current[0];\n",
    "        ## Need Bi-Gram counts in further computations\n",
    "    if current[1] == '2-GRAM':\n",
    "        bi_dict[current[2] + ' ' + current[3]] = current[0];\n",
    "    return tri_dict, bi_dict"
   ]
  },
  {
   "cell_type": "code",
   "execution_count": 2,
   "metadata": {},
   "outputs": [],
   "source": [
    "# Computes the log probabilities\n",
    "def computeLogProb(tri, bi):\n",
    "    file = open('5-1.txt','w')\n",
    "    for i in tri.keys():\n",
    "        temp = i.split()\n",
    "        ## p(yi|yi−2, yi−1) = Count(yi−2, yi−1, yi)/Count(yi−2, yi−1)\n",
    "        ## For example: p(I_MISC| I_PER, I_ORG) = trigram count of \n",
    "        ## I_PER I_ORG I_MISC / bigram count of I_PER I_ORG\n",
    "    prob = math.log(int(tri[i])/int(bi[temp[0]+' '+temp[1]]),2)\n",
    "    file.write(i+' '+str(prob)+'\\n');\n",
    "    file.close()"
   ]
  },
  {
   "cell_type": "code",
   "execution_count": null,
   "metadata": {},
   "outputs": [],
   "source": []
  }
 ],
 "metadata": {
  "kernelspec": {
   "display_name": "Python 3",
   "language": "python",
   "name": "python3"
  },
  "language_info": {
   "codemirror_mode": {
    "name": "ipython",
    "version": 3
   },
   "file_extension": ".py",
   "mimetype": "text/x-python",
   "name": "python",
   "nbconvert_exporter": "python",
   "pygments_lexer": "ipython3",
   "version": "3.6.2"
  }
 },
 "nbformat": 4,
 "nbformat_minor": 2
}
