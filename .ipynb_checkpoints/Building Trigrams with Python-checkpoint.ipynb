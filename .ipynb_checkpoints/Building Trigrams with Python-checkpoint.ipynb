{
 "cells": [
  {
   "cell_type": "markdown",
   "metadata": {},
   "source": [
    "## Building Trigrams With Python"
   ]
  },
  {
   "cell_type": "code",
   "execution_count": 14,
   "metadata": {},
   "outputs": [],
   "source": [
    "# takes in the file of words and turns them into trigrams\n",
    "def create_trigram_text(filename):\n",
    "    f1 = open(filename, 'r')\n",
    "    f2 = open('trigrams.txt', 'w')\n",
    "    current_tri = []\n",
    "    for i in f1:\n",
    "        if len(current_tri) < 3:\n",
    "            current_tri.append(i.strip())\n",
    "        else:\n",
    "            f2.write(\" \".join(current_tri)+\"\\n\")\n",
    "            current_tri = []\n",
    "            current_tri.append(i.strip())"
   ]
  },
  {
   "cell_type": "code",
   "execution_count": 1,
   "metadata": {},
   "outputs": [],
   "source": [
    "import math\n",
    "\n",
    "# Filter Trigrams and Bigrams from the counts file\n",
    "def trigrams(filename):\n",
    "    tri_dict = {}\n",
    "    bi_dict = {}\n",
    "    for i in open(filename):\n",
    "        current = i.split()\n",
    "    if current[1] == '3-GRAM':\n",
    "        tri_dict[current[2] + ' ' + current[3] + ' ' + current[4]] = current[0];\n",
    "        ## Need Bi-Gram counts in further computations\n",
    "    if current[1] == '2-GRAM':\n",
    "        bi_dict[current[2] + ' ' + current[3]] = current[0];\n",
    "    return tri_dict, bi_dict"
   ]
  },
  {
   "cell_type": "code",
   "execution_count": 2,
   "metadata": {},
   "outputs": [],
   "source": [
    "# Computes the log probabilities\n",
    "def computeLogProb(tri, bi):\n",
    "    file = open('5-1.txt','w')\n",
    "    for i in tri.keys():\n",
    "        temp = i.split()\n",
    "        ## p(yi|yi−2, yi−1) = Count(yi−2, yi−1, yi)/Count(yi−2, yi−1)\n",
    "        ## For example: p(I_MISC| I_PER, I_ORG) = trigram count of \n",
    "        ## I_PER I_ORG I_MISC / bigram count of I_PER I_ORG\n",
    "    prob = math.log(int(tri[i]) / int(bi[temp[0] + ' ' + temp[1]]), 2)\n",
    "    file.write(i + ' ' + str(prob) + '\\n');\n",
    "    file.close()"
   ]
  },
  {
   "cell_type": "code",
   "execution_count": 17,
   "metadata": {},
   "outputs": [
    {
     "ename": "KeyError",
     "evalue": "'I-ORG O'",
     "output_type": "error",
     "traceback": [
      "\u001b[0;31m---------------------------------------------------------------------------\u001b[0m",
      "\u001b[0;31mKeyError\u001b[0m                                  Traceback (most recent call last)",
      "\u001b[0;32m<ipython-input-17-d9c48384a1bc>\u001b[0m in \u001b[0;36m<module>\u001b[0;34m()\u001b[0m\n\u001b[1;32m      1\u001b[0m \u001b[0mcreate_trigram_text\u001b[0m\u001b[0;34m(\u001b[0m\u001b[0;34m'ner_dev.dat'\u001b[0m\u001b[0;34m)\u001b[0m\u001b[0;34m\u001b[0m\u001b[0m\n\u001b[1;32m      2\u001b[0m \u001b[0mtri\u001b[0m\u001b[0;34m,\u001b[0m \u001b[0mbi\u001b[0m \u001b[0;34m=\u001b[0m \u001b[0mtrigrams\u001b[0m\u001b[0;34m(\u001b[0m\u001b[0;34m'out.counts'\u001b[0m\u001b[0;34m)\u001b[0m\u001b[0;34m\u001b[0m\u001b[0m\n\u001b[0;32m----> 3\u001b[0;31m \u001b[0mcomputeLogProb\u001b[0m\u001b[0;34m(\u001b[0m\u001b[0mtri\u001b[0m\u001b[0;34m,\u001b[0m \u001b[0mbi\u001b[0m\u001b[0;34m)\u001b[0m\u001b[0;34m\u001b[0m\u001b[0m\n\u001b[0m",
      "\u001b[0;32m<ipython-input-2-34d6f752f94a>\u001b[0m in \u001b[0;36mcomputeLogProb\u001b[0;34m(tri, bi)\u001b[0m\n\u001b[1;32m      7\u001b[0m         \u001b[0;31m## For example: p(I_MISC| I_PER, I_ORG) = trigram count of\u001b[0m\u001b[0;34m\u001b[0m\u001b[0;34m\u001b[0m\u001b[0m\n\u001b[1;32m      8\u001b[0m         \u001b[0;31m## I_PER I_ORG I_MISC / bigram count of I_PER I_ORG\u001b[0m\u001b[0;34m\u001b[0m\u001b[0;34m\u001b[0m\u001b[0m\n\u001b[0;32m----> 9\u001b[0;31m     \u001b[0mprob\u001b[0m \u001b[0;34m=\u001b[0m \u001b[0mmath\u001b[0m\u001b[0;34m.\u001b[0m\u001b[0mlog\u001b[0m\u001b[0;34m(\u001b[0m\u001b[0mint\u001b[0m\u001b[0;34m(\u001b[0m\u001b[0mtri\u001b[0m\u001b[0;34m[\u001b[0m\u001b[0mi\u001b[0m\u001b[0;34m]\u001b[0m\u001b[0;34m)\u001b[0m\u001b[0;34m/\u001b[0m\u001b[0mint\u001b[0m\u001b[0;34m(\u001b[0m\u001b[0mbi\u001b[0m\u001b[0;34m[\u001b[0m\u001b[0mtemp\u001b[0m\u001b[0;34m[\u001b[0m\u001b[0;36m0\u001b[0m\u001b[0;34m]\u001b[0m\u001b[0;34m+\u001b[0m\u001b[0;34m' '\u001b[0m\u001b[0;34m+\u001b[0m\u001b[0mtemp\u001b[0m\u001b[0;34m[\u001b[0m\u001b[0;36m1\u001b[0m\u001b[0;34m]\u001b[0m\u001b[0;34m]\u001b[0m\u001b[0;34m)\u001b[0m\u001b[0;34m,\u001b[0m\u001b[0;36m2\u001b[0m\u001b[0;34m)\u001b[0m\u001b[0;34m\u001b[0m\u001b[0m\n\u001b[0m\u001b[1;32m     10\u001b[0m     \u001b[0mfile\u001b[0m\u001b[0;34m.\u001b[0m\u001b[0mwrite\u001b[0m\u001b[0;34m(\u001b[0m\u001b[0mi\u001b[0m\u001b[0;34m+\u001b[0m\u001b[0;34m' '\u001b[0m\u001b[0;34m+\u001b[0m\u001b[0mstr\u001b[0m\u001b[0;34m(\u001b[0m\u001b[0mprob\u001b[0m\u001b[0;34m)\u001b[0m\u001b[0;34m+\u001b[0m\u001b[0;34m'\\n'\u001b[0m\u001b[0;34m)\u001b[0m\u001b[0;34m;\u001b[0m\u001b[0;34m\u001b[0m\u001b[0m\n\u001b[1;32m     11\u001b[0m     \u001b[0mfile\u001b[0m\u001b[0;34m.\u001b[0m\u001b[0mclose\u001b[0m\u001b[0;34m(\u001b[0m\u001b[0;34m)\u001b[0m\u001b[0;34m\u001b[0m\u001b[0m\n",
      "\u001b[0;31mKeyError\u001b[0m: 'I-ORG O'"
     ]
    }
   ],
   "source": [
    "create_trigram_text('ner_dev.dat')\n",
    "tri, bi = trigrams('out.counts')\n",
    "computeLogProb(tri, bi)"
   ]
  },
  {
   "cell_type": "code",
   "execution_count": null,
   "metadata": {},
   "outputs": [],
   "source": []
  }
 ],
 "metadata": {
  "kernelspec": {
   "display_name": "Python 3",
   "language": "python",
   "name": "python3"
  },
  "language_info": {
   "codemirror_mode": {
    "name": "ipython",
    "version": 3
   },
   "file_extension": ".py",
   "mimetype": "text/x-python",
   "name": "python",
   "nbconvert_exporter": "python",
   "pygments_lexer": "ipython3",
   "version": "3.6.2"
  }
 },
 "nbformat": 4,
 "nbformat_minor": 2
}
